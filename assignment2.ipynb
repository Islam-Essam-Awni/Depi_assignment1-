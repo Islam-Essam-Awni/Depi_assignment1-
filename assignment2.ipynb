{
 "cells": [
  {
   "cell_type": "markdown",
   "metadata": {},
   "source": [
    "section 1"
   ]
  },
  {
   "cell_type": "code",
   "execution_count": 1,
   "metadata": {},
   "outputs": [
    {
     "name": "stdout",
     "output_type": "stream",
     "text": [
      "\n",
      "Hello, python learners!\n",
      "Today we start our python journey\n",
      "\n"
     ]
    }
   ],
   "source": [
    "print(\"\"\"\n",
    "Hello, python learners!\n",
    "Today we start our python journey\n",
    "\"\"\")"
   ]
  },
  {
   "cell_type": "markdown",
   "metadata": {},
   "source": [
    "section 2"
   ]
  },
  {
   "cell_type": "code",
   "execution_count": 2,
   "metadata": {},
   "outputs": [
    {
     "name": "stdout",
     "output_type": "stream",
     "text": [
      " I'm 22 years old\n"
     ]
    }
   ],
   "source": [
    "age = 22\n",
    "print(f\" I'm {age} years old\")"
   ]
  },
  {
   "cell_type": "code",
   "execution_count": 3,
   "metadata": {},
   "outputs": [
    {
     "name": "stdout",
     "output_type": "stream",
     "text": [
      "\n",
      "the type of x is <class 'str'>\n",
      "the type of y is <class 'int'>\n",
      "the type of z is <class 'float'>\n",
      "\n"
     ]
    }
   ],
   "source": [
    "x = \"hello\"\n",
    "y = 2\n",
    "z = 2.5\n",
    "print(f\"\"\"\n",
    "the type of x is {type(x)}\n",
    "the type of y is {type(y)}\n",
    "the type of z is {type(z)}\n",
    "\"\"\")"
   ]
  },
  {
   "cell_type": "markdown",
   "metadata": {},
   "source": [
    "secion 3"
   ]
  },
  {
   "cell_type": "code",
   "execution_count": 4,
   "metadata": {},
   "outputs": [
    {
     "name": "stdout",
     "output_type": "stream",
     "text": [
      "amazing\n"
     ]
    },
    {
     "data": {
      "text/plain": [
       "'islam Essam'"
      ]
     },
     "execution_count": 4,
     "metadata": {},
     "output_type": "execute_result"
    }
   ],
   "source": [
    "a = \"python is amazing\"\n",
    "print(a[10:])\n",
    "first_name = \"islam\"\n",
    "last_name = \"Essam\"\n",
    "fullName= first_name+\" \"+last_name\n",
    "fullName"
   ]
  },
  {
   "cell_type": "markdown",
   "metadata": {},
   "source": [
    "section 4"
   ]
  },
  {
   "cell_type": "code",
   "execution_count": 5,
   "metadata": {},
   "outputs": [
    {
     "data": {
      "text/plain": [
       "50"
      ]
     },
     "execution_count": 5,
     "metadata": {},
     "output_type": "execute_result"
    }
   ],
   "source": [
    "area = 5*10\n",
    "area"
   ]
  },
  {
   "cell_type": "code",
   "execution_count": 6,
   "metadata": {},
   "outputs": [
    {
     "name": "stdout",
     "output_type": "stream",
     "text": [
      "sum =  27\n",
      "sub=  13\n",
      "mult=  140\n",
      "div=  2.857142857142857\n",
      "mod = 6\n"
     ]
    }
   ],
   "source": [
    "a= 20 \n",
    "b =7\n",
    "\n",
    "print(\"sum = \" , a + b)\n",
    "print(\"sub= \" ,a - b)\n",
    "print(\"mult= \" , a*b)\n",
    "print(\"div= \" , a/b)\n",
    "print(\"mod =\", a%b)\n"
   ]
  },
  {
   "cell_type": "markdown",
   "metadata": {},
   "source": [
    "section 5"
   ]
  },
  {
   "cell_type": "code",
   "execution_count": 7,
   "metadata": {},
   "outputs": [
    {
     "name": "stdout",
     "output_type": "stream",
     "text": [
      "['meat', 'chicken', 'rice', 'salad', 'fish'] rice\n"
     ]
    },
    {
     "ename": "TypeError",
     "evalue": "'tuple' object does not support item assignment",
     "output_type": "error",
     "traceback": [
      "\u001b[1;31m---------------------------------------------------------------------------\u001b[0m",
      "\u001b[1;31mTypeError\u001b[0m                                 Traceback (most recent call last)",
      "Cell \u001b[1;32mIn[7], line 4\u001b[0m\n\u001b[0;32m      2\u001b[0m \u001b[38;5;28mprint\u001b[39m(food , food[\u001b[38;5;241m2\u001b[39m])\n\u001b[0;32m      3\u001b[0m food_tuple \u001b[38;5;241m=\u001b[39m \u001b[38;5;28mtuple\u001b[39m(food)\n\u001b[1;32m----> 4\u001b[0m \u001b[43mfood_tuple\u001b[49m\u001b[43m[\u001b[49m\u001b[38;5;241;43m0\u001b[39;49m\u001b[43m]\u001b[49m \u001b[38;5;241m=\u001b[39m \u001b[38;5;124m\"\u001b[39m\u001b[38;5;124msalad\u001b[39m\u001b[38;5;124m\"\u001b[39m\n",
      "\u001b[1;31mTypeError\u001b[0m: 'tuple' object does not support item assignment"
     ]
    }
   ],
   "source": [
    "food = [\"meat\",'chicken' ,'rice','salad','fish']\n",
    "print(food , food[2])\n",
    "food_tuple = tuple(food)\n",
    "food_tuple[0] = \"salad\""
   ]
  },
  {
   "cell_type": "markdown",
   "metadata": {},
   "source": [
    "# section 6 "
   ]
  },
  {
   "cell_type": "code",
   "execution_count": null,
   "metadata": {},
   "outputs": [
    {
     "name": "stdout",
     "output_type": "stream",
     "text": [
      "python\n"
     ]
    },
    {
     "data": {
      "text/plain": [
       "'learning python is awesome!'"
      ]
     },
     "execution_count": 24,
     "metadata": {},
     "output_type": "execute_result"
    }
   ],
   "source": [
    "m = \"learning python is fun!\"\n",
    "print(m[9:15])\n",
    "n = m.replace(\"fun\",\"awesome\")\n",
    "n"
   ]
  },
  {
   "cell_type": "markdown",
   "metadata": {},
   "source": [
    "section 7 "
   ]
  },
  {
   "cell_type": "code",
   "execution_count": null,
   "metadata": {},
   "outputs": [
    {
     "name": "stdout",
     "output_type": "stream",
     "text": [
      "{'name': 'islam', 'age': '22', 'grade': '4th'}\n"
     ]
    },
    {
     "data": {
      "text/plain": [
       "{'name': 'islam', 'age': '22', 'grade': '4th', 'city': 'cairo'}"
      ]
     },
     "execution_count": 38,
     "metadata": {},
     "output_type": "execute_result"
    }
   ],
   "source": [
    "student = {\"name\":\"islam\", \"age\":\"22\", \"grade\" :\"4th\"}\n",
    "print(student)\n",
    "student[\"city\"] = \"cairo\"\n",
    "student"
   ]
  },
  {
   "cell_type": "code",
   "execution_count": null,
   "metadata": {},
   "outputs": [
    {
     "name": "stdout",
     "output_type": "stream",
     "text": [
      "sum = 6\n",
      "sub = 2\n",
      "prod = 8\n",
      "div = 2.0\n",
      "divisible\n"
     ]
    }
   ],
   "source": [
    "num1 = int(input(\"enter first number\"))\n",
    "num2 = int(input(\"enter second number\"))\n",
    "print( \"sum =\" , num1 + num2)\n",
    "print( \"sub =\" , num1 - num2)\n",
    "print( \"prod =\", num1 * num2)\n",
    "print( \"div =\", num1 / num2)\n",
    "\n",
    "if num1%num2 == 0 :\n",
    "    print(\"divisible\")\n",
    "else:\n",
    "    print(\"not divisible\")"
   ]
  }
 ],
 "metadata": {
  "kernelspec": {
   "display_name": "Python 3",
   "language": "python",
   "name": "python3"
  },
  "language_info": {
   "codemirror_mode": {
    "name": "ipython",
    "version": 3
   },
   "file_extension": ".py",
   "mimetype": "text/x-python",
   "name": "python",
   "nbconvert_exporter": "python",
   "pygments_lexer": "ipython3",
   "version": "3.11.9"
  }
 },
 "nbformat": 4,
 "nbformat_minor": 2
}
