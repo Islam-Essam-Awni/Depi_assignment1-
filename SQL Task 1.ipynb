{
 "cells": [
  {
   "cell_type": "code",
   "execution_count": null,
   "metadata": {},
   "outputs": [],
   "source": [
    "import sqlite3\n"
   ]
  },
  {
   "cell_type": "code",
   "execution_count": null,
   "metadata": {},
   "outputs": [],
   "source": [
    "# creat connection\n",
    "conn = sqlite3.connect('school.db')\n",
    "\n",
    "cursor = conn.cursor()"
   ]
  },
  {
   "cell_type": "code",
   "execution_count": null,
   "metadata": {},
   "outputs": [
    {
     "data": {
      "text/plain": [
       "<sqlite3.Cursor at 0x154e6a43240>"
      ]
     },
     "execution_count": 4,
     "metadata": {},
     "output_type": "execute_result"
    }
   ],
   "source": [
    "# create tables\n",
    "cursor.execute('''CREATE TABLE IF NOT EXISTS employees (\n",
    "\n",
    "id INTEGER PRIMARY KEY AUTOINCREMENT,\n",
    "\n",
    "name TEXT,\n",
    "               \n",
    "last_name TEXT,\n",
    "\n",
    "salary INTEGER,\n",
    "\n",
    "department_id INTEGER\n",
    "\n",
    ")''')\n",
    "\n",
    "cursor.execute('''CREATE TABLE IF NOT EXISTS departments (\n",
    "\n",
    "id INTEGER PRIMARY KEY AUTOINCREMENT,\n",
    "\n",
    "name TEXT\n",
    "\n",
    ")''')\n",
    "\n",
    "\n"
   ]
  },
  {
   "cell_type": "code",
   "execution_count": null,
   "metadata": {},
   "outputs": [
    {
     "data": {
      "text/plain": [
       "<sqlite3.Cursor at 0x154e6a43240>"
      ]
     },
     "execution_count": 11,
     "metadata": {},
     "output_type": "execute_result"
    }
   ],
   "source": [
    "# Insert sample data\n",
    "\n",
    "cursor.executemany('INSERT INTO employees (name, last_name, salary, department_id) VALUES (?, ?, ?, ?)', [\n",
    "\n",
    "('Alice','Wayne', 2000, 1),\n",
    "\n",
    "('Bob', 'cooper', 3000, 2),\n",
    "\n",
    "('Charlie','Mcalister',4000, 3),\n",
    "\n",
    "('Joey','Smith',6000, 2)\n",
    "\n",
    "])\n",
    "\n",
    "cursor.executemany('INSERT INTO departments (name) VALUES (?)', [\n",
    "    ('Human Resources',),\n",
    "\n",
    "    ('Finance',),\n",
    "\n",
    "    ('Engineering',)\n",
    "    \n",
    "])\n",
    "\n",
    "\n",
    "\n"
   ]
  },
  {
   "cell_type": "code",
   "execution_count": null,
   "metadata": {},
   "outputs": [
    {
     "name": "stdout",
     "output_type": "stream",
     "text": [
      "[(1, 'Wayne', 2000), (2, 'cooper', 3000), (3, 'Mcalister', 4000), (5, 'Wayne', 2000), (6, 'cooper', 3000), (7, 'Mcalister', 4000), (9, 'Wayne', 2000), (10, 'cooper', 3000), (11, 'Mcalister', 4000), (13, 'Wayne', 2000), (14, 'cooper', 3000), (15, 'Mcalister', 4000), (17, 'Wayne', 2000), (18, 'cooper', 3000), (19, 'Mcalister', 4000), (21, 'Wayne', 2000), (22, 'cooper', 3000), (23, 'Mcalister', 4000), (25, 'Wayne', 2000), (26, 'cooper', 3000), (27, 'Mcalister', 4000)]\n"
     ]
    }
   ],
   "source": [
    "# Task 1\n",
    "cursor.execute(\n",
    "\"\"\"SELECT e.id,e.last_name,e.salary \n",
    "FROM employees e\n",
    "WHERE (salary BETWEEN 2000 AND 5000) \n",
    "AND (e.id NOT IN (101,200))\"\"\")\n",
    "\n",
    "print(cursor.fetchall())"
   ]
  },
  {
   "cell_type": "code",
   "execution_count": null,
   "metadata": {},
   "outputs": [
    {
     "name": "stdout",
     "output_type": "stream",
     "text": [
      "[('Charlie', 'Engineering'), ('Charlie', 'Engineering'), ('Charlie', 'Engineering'), ('Charlie', 'Engineering'), ('Charlie', 'Engineering'), ('Charlie', 'Engineering'), ('Charlie', 'Engineering'), ('Bob', 'Finance'), ('Joey', 'Finance'), ('Bob', 'Finance'), ('Joey', 'Finance'), ('Bob', 'Finance'), ('Joey', 'Finance'), ('Bob', 'Finance'), ('Joey', 'Finance'), ('Bob', 'Finance'), ('Joey', 'Finance'), ('Bob', 'Finance'), ('Joey', 'Finance'), ('Bob', 'Finance'), ('Joey', 'Finance'), ('Alice', 'Human Resources'), ('Alice', 'Human Resources'), ('Alice', 'Human Resources'), ('Alice', 'Human Resources'), ('Alice', 'Human Resources'), ('Alice', 'Human Resources'), ('Alice', 'Human Resources')]\n"
     ]
    }
   ],
   "source": [
    "# Task2 \n",
    "cursor.execute(\"\"\"\n",
    "SELECT e.name as employee_name, d.name as department_name \n",
    "FROM employees e JOIN departments d ON e.department_id = d.id\n",
    "ORDER BY department_name ASC;\n",
    "\"\"\")\n",
    "\n",
    "print(cursor.fetchall())"
   ]
  },
  {
   "cell_type": "code",
   "execution_count": null,
   "metadata": {},
   "outputs": [
    {
     "name": "stdout",
     "output_type": "stream",
     "text": [
      "[(1, 7, 2000.0), (2, 14, 4500.0), (3, 7, 4000.0)]\n"
     ]
    }
   ],
   "source": [
    "# Task 3\n",
    "cursor.execute(\"\"\"\n",
    "SELECT d.id as department_id, COUNT(e.id) as number_of_employees,AVG(salary) as avg_salary FROM\n",
    "employees e JOIN departments d ON e.department_id = d.id \n",
    "GROUP BY d.id;\n",
    "\"\"\")\n",
    "\n",
    "print(cursor.fetchall())"
   ]
  }
 ],
 "metadata": {
  "language_info": {
   "name": "python"
  }
 },
 "nbformat": 4,
 "nbformat_minor": 2
}
